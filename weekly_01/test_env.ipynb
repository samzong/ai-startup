{
 "cells": [
  {
   "cell_type": "code",
   "execution_count": 1,
   "metadata": {},
   "outputs": [
    {
     "name": "stdout",
     "output_type": "stream",
     "text": [
      "Python 3.10.14\n"
     ]
    }
   ],
   "source": [
    "!python --version"
   ]
  },
  {
   "cell_type": "code",
   "execution_count": 2,
   "metadata": {},
   "outputs": [
    {
     "name": "stdout",
     "output_type": "stream",
     "text": [
      "# packages in environment at /opt/homebrew/Caskroom/miniforge/base/envs/ai_dev:\n",
      "#\n",
      "# Name                    Version                   Build  Channel\n",
      "appnope                   0.1.4              pyhd8ed1ab_0    conda-forge\n",
      "asttokens                 2.4.1              pyhd8ed1ab_0    conda-forge\n",
      "blas                      1.0                    openblas    defaults\n",
      "brotli-python             1.0.9           py310h313beb8_8    defaults\n",
      "bzip2                     1.0.8                h80987f9_6    defaults\n",
      "ca-certificates           2024.8.30            hf0a4a13_0    conda-forge\n",
      "certifi                   2024.8.30          pyhd8ed1ab_0    conda-forge\n",
      "charset-normalizer        3.3.2              pyhd3eb1b0_0    defaults\n",
      "comm                      0.2.2              pyhd8ed1ab_0    conda-forge\n",
      "debugpy                   1.6.7           py310h313beb8_0    defaults\n",
      "decorator                 5.1.1              pyhd8ed1ab_0    conda-forge\n",
      "exceptiongroup            1.2.2              pyhd8ed1ab_0    conda-forge\n",
      "executing                 2.1.0              pyhd8ed1ab_0    conda-forge\n",
      "filelock                  3.13.1          py310hca03da5_0    defaults\n",
      "freetype                  2.12.1               h1192e45_0    defaults\n",
      "giflib                    5.2.1                h80987f9_3    defaults\n",
      "gmp                       6.2.1                hc377ac9_3    defaults\n",
      "gmpy2                     2.1.2           py310h8c48613_0    defaults\n",
      "idna                      3.7             py310hca03da5_0    defaults\n",
      "importlib-metadata        8.5.0              pyha770c72_0    conda-forge\n",
      "ipykernel                 6.29.5             pyh57ce528_0    conda-forge\n",
      "ipython                   8.27.0             pyh707e725_0    conda-forge\n",
      "jedi                      0.19.1             pyhd8ed1ab_0    conda-forge\n",
      "jinja2                    3.1.4           py310hca03da5_0    defaults\n",
      "jpeg                      9e                   h80987f9_3    defaults\n",
      "jupyter_client            8.6.3              pyhd8ed1ab_0    conda-forge\n",
      "jupyter_core              5.7.2              pyh31011fe_1    conda-forge\n",
      "lcms2                     2.12                 hba8e193_0    defaults\n",
      "lerc                      3.0                  hc377ac9_0    defaults\n",
      "libcxx                    14.0.6               h848a8c0_0    defaults\n",
      "libdeflate                1.17                 h80987f9_1    defaults\n",
      "libffi                    3.4.4                hca03da5_1    defaults\n",
      "libgfortran               5.0.0           11_3_0_hca03da5_28    defaults\n",
      "libgfortran5              11.3.0              h009349e_28    defaults\n",
      "libjpeg-turbo             2.0.0                h1a28f6b_0    defaults\n",
      "libopenblas               0.3.21               h269037a_0    defaults\n",
      "libpng                    1.6.39               h80987f9_0    defaults\n",
      "libsodium                 1.0.18               h27ca646_1    conda-forge\n",
      "libtiff                   4.5.1                h313beb8_0    defaults\n",
      "libwebp                   1.3.2                ha3663a8_0    defaults\n",
      "libwebp-base              1.3.2                h80987f9_0    defaults\n",
      "llvm-openmp               14.0.6               hc6e5704_0    defaults\n",
      "lz4-c                     1.9.4                h313beb8_1    defaults\n",
      "markupsafe                2.1.3           py310h80987f9_0    defaults\n",
      "matplotlib-inline         0.1.7              pyhd8ed1ab_0    conda-forge\n",
      "mpc                       1.1.0                h8c48613_1    defaults\n",
      "mpfr                      4.0.2                h695f6f0_1    defaults\n",
      "mpmath                    1.3.0           py310hca03da5_0    defaults\n",
      "ncurses                   6.4                  h313beb8_0    defaults\n",
      "nest-asyncio              1.6.0              pyhd8ed1ab_0    conda-forge\n",
      "networkx                  3.2.1           py310hca03da5_0    defaults\n",
      "numpy                     2.0.1           py310h3b2db8e_1    defaults\n",
      "numpy-base                2.0.1           py310ha9811e2_1    defaults\n",
      "openjpeg                  2.5.2                h54b8e55_0    defaults\n",
      "openssl                   3.3.2                h8359307_0    conda-forge\n",
      "packaging                 24.1               pyhd8ed1ab_0    conda-forge\n",
      "parso                     0.8.4              pyhd8ed1ab_0    conda-forge\n",
      "pexpect                   4.9.0              pyhd8ed1ab_0    conda-forge\n",
      "pickleshare               0.7.5                   py_1003    conda-forge\n",
      "pillow                    10.4.0          py310h80987f9_0    defaults\n",
      "pip                       24.2            py310hca03da5_0    defaults\n",
      "platformdirs              4.3.6              pyhd8ed1ab_0    conda-forge\n",
      "prompt-toolkit            3.0.48             pyha770c72_0    conda-forge\n",
      "psutil                    5.9.0           py310h1a28f6b_0    defaults\n",
      "ptyprocess                0.7.0              pyhd3deb0d_0    conda-forge\n",
      "pure_eval                 0.2.3              pyhd8ed1ab_0    conda-forge\n",
      "pygments                  2.18.0             pyhd8ed1ab_0    conda-forge\n",
      "pysocks                   1.7.1           py310hca03da5_0    defaults\n",
      "python                    3.10.14              hb885b13_1    defaults\n",
      "python-dateutil           2.9.0              pyhd8ed1ab_0    conda-forge\n",
      "pytorch                   2.6.0.dev20240927        py3.10_0    pytorch-nightly\n",
      "pyyaml                    6.0.1           py310h80987f9_0    defaults\n",
      "pyzmq                     25.1.2          py310h313beb8_0    defaults\n",
      "readline                  8.2                  h1a28f6b_0    defaults\n",
      "requests                  2.32.3          py310hca03da5_0    defaults\n",
      "setuptools                75.1.0          py310hca03da5_0    defaults\n",
      "six                       1.16.0             pyh6c4a22f_0    conda-forge\n",
      "sqlite                    3.45.3               h80987f9_0    defaults\n",
      "stack_data                0.6.2              pyhd8ed1ab_0    conda-forge\n",
      "sympy                     1.13.2          py310hca03da5_0    defaults\n",
      "tk                        8.6.14               h6ba3021_0    defaults\n",
      "torchaudio                2.5.0.dev20240928       py310_cpu    pytorch-nightly\n",
      "torchvision               0.20.0.dev20240928       py310_cpu    pytorch-nightly\n",
      "tornado                   6.4.1           py310h80987f9_0    defaults\n",
      "traitlets                 5.14.3             pyhd8ed1ab_0    conda-forge\n",
      "typing_extensions         4.11.0          py310hca03da5_0    defaults\n",
      "tzdata                    2024a                h04d1e81_0    defaults\n",
      "urllib3                   2.2.2           py310hca03da5_0    defaults\n",
      "wcwidth                   0.2.13             pyhd8ed1ab_0    conda-forge\n",
      "wheel                     0.44.0          py310hca03da5_0    defaults\n",
      "xz                        5.4.6                h80987f9_1    defaults\n",
      "yaml                      0.2.5                h1a28f6b_0    defaults\n",
      "zeromq                    4.3.5                h313beb8_0    defaults\n",
      "zipp                      3.20.2             pyhd8ed1ab_0    conda-forge\n",
      "zlib                      1.2.13               h18a0788_1    defaults\n",
      "zstd                      1.5.5                hd90d995_2    defaults\n"
     ]
    }
   ],
   "source": [
    "!conda list"
   ]
  },
  {
   "cell_type": "code",
   "execution_count": 3,
   "metadata": {},
   "outputs": [
    {
     "name": "stdout",
     "output_type": "stream",
     "text": [
      "2.6.0.dev20240927\n",
      "True\n",
      "True\n"
     ]
    }
   ],
   "source": [
    "import torch\n",
    "print(torch.__version__)\n",
    "print(torch.backends.mps.is_available())\n",
    "print(torch.backends.mps.is_built())"
   ]
  },
  {
   "cell_type": "code",
   "execution_count": 1,
   "metadata": {},
   "outputs": [
    {
     "name": "stdout",
     "output_type": "stream",
     "text": [
      "Downloading http://yann.lecun.com/exdb/mnist/train-images-idx3-ubyte.gz\n",
      "Failed to download (trying next):\n",
      "HTTP Error 403: Forbidden\n",
      "\n",
      "Downloading https://ossci-datasets.s3.amazonaws.com/mnist/train-images-idx3-ubyte.gz\n",
      "Downloading https://ossci-datasets.s3.amazonaws.com/mnist/train-images-idx3-ubyte.gz to mnist_data/MNIST/raw/train-images-idx3-ubyte.gz\n"
     ]
    },
    {
     "name": "stderr",
     "output_type": "stream",
     "text": [
      "100.0%\n"
     ]
    },
    {
     "name": "stdout",
     "output_type": "stream",
     "text": [
      "Extracting mnist_data/MNIST/raw/train-images-idx3-ubyte.gz to mnist_data/MNIST/raw\n",
      "\n",
      "Downloading http://yann.lecun.com/exdb/mnist/train-labels-idx1-ubyte.gz\n",
      "Failed to download (trying next):\n",
      "HTTP Error 403: Forbidden\n",
      "\n",
      "Downloading https://ossci-datasets.s3.amazonaws.com/mnist/train-labels-idx1-ubyte.gz\n",
      "Downloading https://ossci-datasets.s3.amazonaws.com/mnist/train-labels-idx1-ubyte.gz to mnist_data/MNIST/raw/train-labels-idx1-ubyte.gz\n"
     ]
    },
    {
     "name": "stderr",
     "output_type": "stream",
     "text": [
      "100.0%\n"
     ]
    },
    {
     "name": "stdout",
     "output_type": "stream",
     "text": [
      "Extracting mnist_data/MNIST/raw/train-labels-idx1-ubyte.gz to mnist_data/MNIST/raw\n",
      "\n",
      "Downloading http://yann.lecun.com/exdb/mnist/t10k-images-idx3-ubyte.gz\n",
      "Failed to download (trying next):\n",
      "HTTP Error 403: Forbidden\n",
      "\n",
      "Downloading https://ossci-datasets.s3.amazonaws.com/mnist/t10k-images-idx3-ubyte.gz\n",
      "Downloading https://ossci-datasets.s3.amazonaws.com/mnist/t10k-images-idx3-ubyte.gz to mnist_data/MNIST/raw/t10k-images-idx3-ubyte.gz\n"
     ]
    },
    {
     "name": "stderr",
     "output_type": "stream",
     "text": [
      "100.0%\n"
     ]
    },
    {
     "name": "stdout",
     "output_type": "stream",
     "text": [
      "Extracting mnist_data/MNIST/raw/t10k-images-idx3-ubyte.gz to mnist_data/MNIST/raw\n",
      "\n",
      "Downloading http://yann.lecun.com/exdb/mnist/t10k-labels-idx1-ubyte.gz\n",
      "Failed to download (trying next):\n",
      "HTTP Error 403: Forbidden\n",
      "\n",
      "Downloading https://ossci-datasets.s3.amazonaws.com/mnist/t10k-labels-idx1-ubyte.gz\n",
      "Downloading https://ossci-datasets.s3.amazonaws.com/mnist/t10k-labels-idx1-ubyte.gz to mnist_data/MNIST/raw/t10k-labels-idx1-ubyte.gz\n"
     ]
    },
    {
     "name": "stderr",
     "output_type": "stream",
     "text": [
      "100.0%\n"
     ]
    },
    {
     "name": "stdout",
     "output_type": "stream",
     "text": [
      "Extracting mnist_data/MNIST/raw/t10k-labels-idx1-ubyte.gz to mnist_data/MNIST/raw\n",
      "\n",
      "loss: 2.300000  [    0/60000]\n",
      "loss: 2.291041  [ 6400/60000]\n",
      "loss: 2.290750  [12800/60000]\n",
      "loss: 2.283026  [19200/60000]\n",
      "loss: 2.280827  [25600/60000]\n",
      "loss: 2.275137  [32000/60000]\n",
      "loss: 2.273357  [38400/60000]\n",
      "loss: 2.268939  [44800/60000]\n",
      "loss: 2.259243  [51200/60000]\n",
      "loss: 2.251018  [57600/60000]\n"
     ]
    }
   ],
   "source": [
    "import torch\n",
    "from torch import nn, optim\n",
    "from torchvision import datasets, transforms\n",
    "from torch.utils.data import DataLoader\n",
    "\n",
    "# 检查MPS是否可用\n",
    "if not torch.backends.mps.is_available():\n",
    "    raise RuntimeError(\"MPS is not available. Please check your setup.\")\n",
    "\n",
    "# 设置设备为MPS\n",
    "device = torch.device(\"mps\")\n",
    "\n",
    "# 定义简单的神经网络模型\n",
    "\n",
    "\n",
    "class SimpleNN(nn.Module):\n",
    "    def __init__(self):\n",
    "        super(SimpleNN, self).__init__()\n",
    "        self.flatten = nn.Flatten()\n",
    "        self.linear_relu_stack = nn.Sequential(\n",
    "            nn.Linear(28*28, 512),\n",
    "            nn.ReLU(),\n",
    "            nn.Linear(512, 512),\n",
    "            nn.ReLU(),\n",
    "            nn.Linear(512, 10)\n",
    "        )\n",
    "\n",
    "    def forward(self, x):\n",
    "        x = self.flatten(x)\n",
    "        logits = self.linear_relu_stack(x)\n",
    "        return logits\n",
    "\n",
    "\n",
    "# 初始化模型并移动到MPS设备\n",
    "model = SimpleNN().to(device)\n",
    "\n",
    "# 定义损失函数和优化器\n",
    "loss_fn = nn.CrossEntropyLoss()\n",
    "optimizer = optim.SGD(model.parameters(), lr=1e-3)\n",
    "\n",
    "# 准备数据集和数据加载器\n",
    "transform = transforms.Compose([transforms.ToTensor()])\n",
    "train_dataset = datasets.MNIST(\n",
    "    root='mnist_data', train=True, download=True, transform=transform)\n",
    "train_loader = DataLoader(train_dataset, batch_size=64, shuffle=True)\n",
    "\n",
    "# 训练函数\n",
    "\n",
    "\n",
    "def train(dataloader, model, loss_fn, optimizer):\n",
    "    size = len(dataloader.dataset)\n",
    "    model.train()\n",
    "    for batch, (X, y) in enumerate(dataloader):\n",
    "        # 将数据移动到MPS设备\n",
    "        X, y = X.to(device), y.to(device)\n",
    "\n",
    "        # 计算预测误差\n",
    "        pred = model(X)\n",
    "        loss = loss_fn(pred, y)\n",
    "\n",
    "        # 反向传播\n",
    "        optimizer.zero_grad()\n",
    "        loss.backward()\n",
    "        optimizer.step()\n",
    "\n",
    "        if batch % 100 == 0:\n",
    "            loss_val = loss.item()\n",
    "            current = batch * len(X)\n",
    "            print(f\"loss: {loss_val:>7f}  [{current:>5d}/{size:>5d}]\")\n",
    "\n",
    "\n",
    "# 执行一次训练过程\n",
    "train(train_loader, model, loss_fn, optimizer)"
   ]
  },
  {
   "cell_type": "code",
   "execution_count": null,
   "metadata": {},
   "outputs": [],
   "source": []
  }
 ],
 "metadata": {
  "kernelspec": {
   "display_name": "ai_dev",
   "language": "python",
   "name": "python3"
  },
  "language_info": {
   "codemirror_mode": {
    "name": "ipython",
    "version": 3
   },
   "file_extension": ".py",
   "mimetype": "text/x-python",
   "name": "python",
   "nbconvert_exporter": "python",
   "pygments_lexer": "ipython3",
   "version": "3.10.14"
  }
 },
 "nbformat": 4,
 "nbformat_minor": 2
}

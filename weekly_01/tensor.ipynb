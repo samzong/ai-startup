{
 "cells": [
  {
   "cell_type": "markdown",
   "metadata": {},
   "source": [
    "张量是深度学习和科学计算中一个核心概念。为了帮助普通用户理解张量及其重要性，我们可以从以下几个方面进行知识普及。\n",
    "\n",
    "## 什么是张量？\n",
    "\n",
    "1. **多维数组**: 张量可以被看作是一个多维数组，用于存储和操作各种类型的数据。它是标量、向量和矩阵的推广。标量是0维张量，向量是一维张量，矩阵是二维张量，而三维及以上的则称为高阶张量[1][2][3]。\n",
    "\n",
    "2. **数据容器**: 张量就像一个容器，可以存储不同类型的数据，如数字、图像、音频等。例如，图像可以表示为一个二维或三维的张量，其中包含像素值和颜色信息[1]。\n",
    "\n",
    "3. **几何对象**: 在数学上，张量也可以被视为一种不随着坐标系变化而改变的几何对象。这种特性使得它在物理学和工程学中也有广泛应用[2][3]。\n",
    "\n",
    "## 为什么需要张量？\n",
    "\n",
    "1. **数据处理的基础**: 在深度学习中，模型需要处理大量的数据。张量提供了一种统一的方式来表示和操作这些数据，无论数据是简单的数字还是复杂的多媒体内容[1]。\n",
    "\n",
    "2. **支持复杂运算**: 张量运算是深度学习的核心之一。通过对张量进行加法、乘法、卷积等操作，可以提取数据特征、进行数据转换等。这些运算对于训练神经网络至关重要[1]。\n",
    "\n",
    "3. **灵活性和扩展性**: 张量支持广播机制，可以在不同形状的张量之间进行运算，自动扩展维度以适应计算需求。这种灵活性大大简化了编程工作[1]。\n",
    "\n",
    "4. **高效计算**: 现代硬件（如GPU）擅长处理大规模并行计算，而张量运算能够充分利用这些硬件资源，提高计算效率。\n",
    "\n",
    "## 张量在实际应用中的例子\n",
    "\n",
    "- **图像处理**: 图像通常表示为三维张量（高度×宽度×颜色通道），如RGB图像。\n",
    "- **音频分析**: 音频信号可以表示为一维张量，其中包含时间序列数据。\n",
    "- **自然语言处理**: 文本数据可以被转换为二维或三维张量，以便输入到语言模型中进行处理。\n",
    "\n",
    "总之，张量作为一种强大的工具，在深度学习和数据科学中扮演着不可或缺的角色。通过理解和掌握张量的概念和操作，我们能够更好地进行数据分析和模型构建，从而推动人工智能技术的发展。\n",
    "\n",
    "Citations:\n",
    "[1] https://cloud.baidu.com/article/2795259\n",
    "[2] https://blog.csdn.net/weixin_49883619/article/details/109735335\n",
    "[3] https://blog.csdn.net/qq_36793268/article/details/107375314"
   ]
  },
  {
   "cell_type": "markdown",
   "metadata": {},
   "source": [
    "标量、向量、矩阵和张量是数学和计算中用于表示数据的基本结构，它们之间有着层级关系，并在深度学习中扮演着重要角色。下面是对它们之间关系的解释，以及它们在大语言模型中的应用。\n",
    "\n",
    "## 标量、向量、矩阵、张量之间的关系\n",
    "\n",
    "1. **标量 (Scalar)**:\n",
    "\n",
    "   - 标量是一个单独的数值，没有方向性。可以被视为 0 阶张量。\n",
    "   - 例子：$$a = 5$$\n",
    "\n",
    "2. **向量 (Vector)**:\n",
    "\n",
    "   - 向量是一组有序排列的数，具有大小和方向。可以被视为一阶张量。\n",
    "   - 例子：$$\\mathbf{v} = [1, 2, 3]$$\n",
    "\n",
    "3. **矩阵 (Matrix)**:\n",
    "\n",
    "   - 矩阵是二维数组，由多个向量组成。可以被视为二阶张量。\n",
    "   - 例子：$$\\mathbf{M} = \\begin{bmatrix} 1 & 2 \\\\ 3 & 4 \\end{bmatrix}$$\n",
    "\n",
    "4. **张量 (Tensor)**:\n",
    "   - 张量是更高维度的数组，可以有三维、四维甚至更高维度。三维以上的张量用于表示复杂的数据结构。\n",
    "   - 例子：三维张量可以表示为$$\\mathbf{T} = [[[1, 2], [3, 4]], [[5, 6], [7, 8]]]$$\n",
    "\n",
    "## 张量在大语言模型中的应用\n",
    "\n",
    "- **数据表示**: 在大语言模型（如 GPT-2）中，文本数据通常被转换为张量形式，以便进行计算和处理。输入文本被分割成 token，每个 token 通过嵌入矩阵转换为向量，这些向量组合成一个三维张量。\n",
    "\n",
    "- **向量化**: 向量化是指将数据转换为向量或张量形式，以便进行高效计算。在大语言模型中，向量化使得模型能够快速处理和分析大量文本数据。\n",
    "\n",
    "- **高维数据处理**: 大语言模型需要处理复杂的多维数据，张量提供了一种灵活而高效的方式来表示这些数据，并支持并行计算以加速训练和推理过程。\n",
    "\n",
    "## 更高维度的张量\n",
    "\n",
    "- 张量可以扩展到任意维度，具体取决于应用需求。在深度学习中，高维张量常用于表示批次数据、时间序列或多通道图像等复杂结构。\n",
    "- 高维张量通过其灵活性和强大的表达能力，在处理复杂的数据模式和关系时尤为重要。\n",
    "\n",
    "总之，标量、向量、矩阵和张量构成了从简单到复杂的数据表示体系。在大语言模型中，张量作为核心数据结构，支持了从输入处理到模型训练的各个环节。通过理解这些概念，我们能够更好地理解和应用深度学习技术。\n",
    "\n",
    "Citations:\n",
    "[1] https://blog.csdn.net/sinat_29957455/article/details/117396685\n",
    "[2] https://www.cnblogs.com/smoka-ai/p/14459113.html\n",
    "[3] https://developer.aliyun.com/article/1086801\n",
    "[4] https://blog.csdn.net/sinat_37322535/article/details/131303317\n"
   ]
  },
  {
   "cell_type": "markdown",
   "metadata": {},
   "source": [
    "张量是数学和物理学中用于表示多维数据的基本结构，能够有效地表示真实世界中的复杂关系；与大模型关系的可以进一步学习以下内容：\n",
    "\n",
    "- 大语言模型中的，Token, 向量化，预测逻辑\n",
    "- Transformers 模型架构中张量的利用\n",
    "- 在张量的并行计算中 高性能GPU的价值 （ 矩阵乘法、卷积）"
   ]
  },
  {
   "cell_type": "markdown",
   "metadata": {},
   "source": [
    "在学习 PyTorch 中的张量操作基础时，以下是一些关键的学习重点和步骤。这些内容将帮助您理解和掌握 PyTorch 张量的基本使用。\n",
    "\n",
    "## PyTorch 张量操作基础学习重点\n",
    "\n",
    "### 1. **张量的创建**\n",
    "\n",
    "- **直接从数据创建**:\n",
    "\n",
    "  ```python\n",
    "  import torch\n",
    "  data = [[1, 2], [3, 4]]\n",
    "  x_data = torch.tensor(data)\n",
    "  ```\n",
    "\n",
    "- **从 NumPy 数组创建**:\n",
    "\n",
    "  ```python\n",
    "  import numpy as np\n",
    "  np_array = np.array(data)\n",
    "  x_np = torch.from_numpy(np_array)\n",
    "  ```\n",
    "\n",
    "- **使用工厂方法创建**:\n",
    "  - 创建空张量（未初始化）：\n",
    "    ```python\n",
    "    x_empty = torch.empty(3, 4)\n",
    "    ```\n",
    "  - 创建全零或全一张量：\n",
    "    ```python\n",
    "    x_zeros = torch.zeros(2, 3)\n",
    "    x_ones = torch.ones(2, 3)\n",
    "    ```\n",
    "  - 创建随机数张量：\n",
    "    ```python\n",
    "    x_rand = torch.rand(2, 3)\n",
    "    ```\n",
    "\n",
    "### 2. **张量的数据类型**\n",
    "\n",
    "- PyTorch 支持多种数据类型，如`float32`、`int64`等。可以在创建张量时指定数据类型：\n",
    "  ```python\n",
    "  x_float = torch.tensor([1.0, 2.0], dtype=torch.float32)\n",
    "  ```\n",
    "\n",
    "### 3. **张量的基本操作**\n",
    "\n",
    "- **算术运算**:\n",
    "\n",
    "  - 张量与标量的运算：\n",
    "    ```python\n",
    "    x = torch.ones(2, 2)\n",
    "    y = x + 1\n",
    "    ```\n",
    "  - 张量与张量的运算（逐元素）：\n",
    "    ```python\n",
    "    a = torch.rand(2, 3)\n",
    "    b = torch.rand(2, 3)\n",
    "    c = a + b\n",
    "    ```\n",
    "\n",
    "- **矩阵运算**:\n",
    "  - 矩阵乘法：\n",
    "    ```python\n",
    "    a = torch.rand(2, 3)\n",
    "    b = torch.rand(3, 2)\n",
    "    c = a @ b\n",
    "    ```\n",
    "\n",
    "### 4. **张量的形状操作**\n",
    "\n",
    "- **查看和改变形状**:\n",
    "\n",
    "  - 查看形状：\n",
    "    ```python\n",
    "    shape = x.shape\n",
    "    ```\n",
    "  - 改变形状（不改变数据）：\n",
    "    ```python\n",
    "    x_reshaped = x.view(6, -1) # 自动计算第二维度大小\n",
    "    ```\n",
    "\n",
    "- **转置和维度变换**:\n",
    "  - 转置：\n",
    "    ```python\n",
    "    x_transposed = x.t()\n",
    "    ```\n",
    "\n",
    "### 学习重点总结\n",
    "\n",
    "- 理解如何使用不同的方法创建和初始化张量。\n",
    "- 掌握基本的张量运算，包括算术运算和矩阵乘法。\n",
    "- 熟悉如何查看和改变张量的形状，以及如何进行转置。\n",
    "- 理解数据类型的作用，并在创建张量时正确指定。\n",
    "\n",
    "通过掌握这些基础知识，您将能够在 PyTorch 中有效地进行各种深度学习任务中的数据处理和模型构建。\n",
    "\n",
    "Citations:\n",
    "[1] https://pytorch.org/tutorials/beginner/basics/tensorqs_tutorial.html\n",
    "[2] https://pytorch.org/tutorials/beginner/introyt/tensors_deeper_tutorial.html\n",
    "[3] https://www.kdnuggets.com/2018/05/pytorch-tensor-basics.html\n",
    "[4] https://www.codementor.io/@packt/how-to-perform-basic-operations-in-pytorch-code-10al39a4c4"
   ]
  },
  {
   "cell_type": "code",
   "execution_count": 1,
   "metadata": {},
   "outputs": [],
   "source": [
    "import torch"
   ]
  },
  {
   "cell_type": "code",
   "execution_count": 5,
   "metadata": {},
   "outputs": [
    {
     "name": "stdout",
     "output_type": "stream",
     "text": [
      "tensor([[1, 2],\n",
      "        [3, 4]])\n"
     ]
    }
   ],
   "source": [
    "# 直接从数据创建张量\n",
    "\n",
    "data = [[1, 2], [3, 4]]\n",
    "x_data = torch.tensor(data)\n",
    "\n",
    "print(x_data)"
   ]
  },
  {
   "cell_type": "code",
   "execution_count": 6,
   "metadata": {},
   "outputs": [
    {
     "name": "stdout",
     "output_type": "stream",
     "text": [
      "tensor([[1, 2],\n",
      "        [3, 4]])\n"
     ]
    }
   ],
   "source": [
    "# 从Numpy数组创建张量\n",
    "import numpy as np\n",
    "np_array = np.array(data)\n",
    "x_np = torch.from_numpy(np_array)\n",
    "\n",
    "print(x_np)"
   ]
  },
  {
   "cell_type": "code",
   "execution_count": 7,
   "metadata": {},
   "outputs": [
    {
     "name": "stdout",
     "output_type": "stream",
     "text": [
      "tensor([[0., 0., 0., 0.],\n",
      "        [0., 0., 0., 0.],\n",
      "        [0., 0., 0., 0.]])\n"
     ]
    }
   ],
   "source": [
    "# 创建一个空张量\n",
    "x_empty = torch.empty(3, 4)\n",
    "\n",
    "print(x_empty)"
   ]
  },
  {
   "cell_type": "code",
   "execution_count": 8,
   "metadata": {},
   "outputs": [
    {
     "name": "stdout",
     "output_type": "stream",
     "text": [
      "x_zeros:  tensor([[0., 0., 0.],\n",
      "        [0., 0., 0.]])\n",
      "--------\n",
      "x_ones:  tensor([[1., 1., 1.],\n",
      "        [1., 1., 1.]])\n"
     ]
    }
   ],
   "source": [
    "# 创建全零或全一张量\n",
    "x_zeros = torch.zeros(2, 3)\n",
    "x_ones = torch.ones(2, 3)\n",
    "\n",
    "print(\"x_zeros: \", x_zeros)\n",
    "print(\"--------\")\n",
    "print(\"x_ones: \", x_ones)"
   ]
  },
  {
   "cell_type": "code",
   "execution_count": 9,
   "metadata": {},
   "outputs": [
    {
     "name": "stdout",
     "output_type": "stream",
     "text": [
      "tensor([[0.3927, 0.2174, 0.5256],\n",
      "        [0.9097, 0.0564, 0.5663]])\n"
     ]
    }
   ],
   "source": [
    "# 创建一个随机张量\n",
    "\n",
    "x_rand = torch.rand(2, 3)\n",
    "\n",
    "print(x_rand)"
   ]
  },
  {
   "cell_type": "markdown",
   "metadata": {},
   "source": [
    "## 张量的数据类型"
   ]
  },
  {
   "cell_type": "code",
   "execution_count": 11,
   "metadata": {},
   "outputs": [
    {
     "name": "stdout",
     "output_type": "stream",
     "text": [
      "tensor([1., 2.])\n",
      "--------------\n",
      "tensor([1, 2])\n"
     ]
    }
   ],
   "source": [
    "# float32\n",
    "x_float = torch.tensor([1.0, 2.0], dtype=torch.float32)\n",
    "\n",
    "print(x_float)\n",
    "\n",
    "print(\"--------------\")\n",
    "\n",
    "x_int = torch.tensor([1, 2], dtype=torch.int64)\n",
    "\n",
    "print(x_int)"
   ]
  },
  {
   "cell_type": "markdown",
   "metadata": {},
   "source": [
    "## 张量的基本操作"
   ]
  },
  {
   "cell_type": "code",
   "execution_count": 12,
   "metadata": {},
   "outputs": [
    {
     "name": "stdout",
     "output_type": "stream",
     "text": [
      "tensor([[2., 2.],\n",
      "        [2., 2.]])\n"
     ]
    }
   ],
   "source": [
    "# 张量与标量的运算\n",
    "x = torch.ones(2, 2)\n",
    "y = x + 1\n",
    "\n",
    "print(y)"
   ]
  },
  {
   "cell_type": "code",
   "execution_count": 13,
   "metadata": {},
   "outputs": [
    {
     "name": "stdout",
     "output_type": "stream",
     "text": [
      "tensor([[1.6486, 1.7093, 1.8027],\n",
      "        [1.4754, 0.8034, 0.2204]])\n"
     ]
    }
   ],
   "source": [
    "# 张量与张量的运算\n",
    "a = torch.rand(2, 3)\n",
    "b = torch.rand(2, 3)\n",
    "c = a + b\n",
    "\n",
    "print(c)"
   ]
  },
  {
   "cell_type": "code",
   "execution_count": 14,
   "metadata": {},
   "outputs": [
    {
     "name": "stdout",
     "output_type": "stream",
     "text": [
      "tensor([[0.5791, 0.4614],\n",
      "        [1.1767, 1.0641]])\n"
     ]
    }
   ],
   "source": [
    "# 矩阵乘法\n",
    "a = torch.rand(2, 3)\n",
    "b = torch.rand(3, 2)\n",
    "c = a @ b\n",
    "\n",
    "print(c)"
   ]
  },
  {
   "cell_type": "markdown",
   "metadata": {},
   "source": [
    "## 张量的形状操作"
   ]
  },
  {
   "cell_type": "code",
   "execution_count": 17,
   "metadata": {},
   "outputs": [
    {
     "name": "stdout",
     "output_type": "stream",
     "text": [
      "torch.Size([2, 2])\n"
     ]
    }
   ],
   "source": [
    "# 查看形状\n",
    "shape = x.shape\n",
    "\n",
    "print(shape)"
   ]
  },
  {
   "cell_type": "code",
   "execution_count": 20,
   "metadata": {},
   "outputs": [
    {
     "name": "stdout",
     "output_type": "stream",
     "text": [
      "Original shape: torch.Size([2, 2])\n",
      "tensor([[1.],\n",
      "        [1.],\n",
      "        [1.],\n",
      "        [1.]])\n"
     ]
    }
   ],
   "source": [
    "# 改变形状\n",
    "x = torch.ones((2, 2))\n",
    "print(\"Original shape:\", x.shape)\n",
    "\n",
    "x_reshaped = x.view(4, -1)  # 自动计算第二维度大小\n",
    "\n",
    "print(x_reshaped)"
   ]
  },
  {
   "cell_type": "code",
   "execution_count": 22,
   "metadata": {},
   "outputs": [
    {
     "name": "stdout",
     "output_type": "stream",
     "text": [
      "tensor([[1., 1.],\n",
      "        [1., 1.]])\n"
     ]
    }
   ],
   "source": [
    "# 张量的转置和维度变换\n",
    "x_transposed = x.t()\n",
    "\n",
    "print(x_transposed)"
   ]
  },
  {
   "cell_type": "code",
   "execution_count": 23,
   "metadata": {},
   "outputs": [
    {
     "name": "stdout",
     "output_type": "stream",
     "text": [
      "Original tensor:\n",
      "tensor([[1, 2, 3],\n",
      "        [4, 5, 6]])\n",
      "Shape: torch.Size([2, 3])\n",
      "\n",
      "Reshaped tensor to (3, 2):\n",
      "tensor([[1, 2],\n",
      "        [3, 4],\n",
      "        [5, 6]])\n",
      "Shape: torch.Size([3, 2])\n",
      "\n",
      "Transposed tensor:\n",
      "tensor([[1, 4],\n",
      "        [2, 5],\n",
      "        [3, 6]])\n",
      "Shape: torch.Size([3, 2])\n",
      "\n",
      "Tensor after unsqueeze (add dimension at position 0):\n",
      "tensor([[[1, 2, 3],\n",
      "         [4, 5, 6]]])\n",
      "Shape: torch.Size([1, 2, 3])\n",
      "\n",
      "Tensor after squeeze (remove dimensions of size 1):\n",
      "tensor([[1, 2, 3],\n",
      "        [4, 5, 6]])\n",
      "Shape: torch.Size([2, 3])\n",
      "\n",
      "Expanded tensor to shape (2, 3, 4):\n",
      "tensor([[[1, 1, 1, 1],\n",
      "         [2, 2, 2, 2],\n",
      "         [3, 3, 3, 3]],\n",
      "\n",
      "        [[4, 4, 4, 4],\n",
      "         [5, 5, 5, 5],\n",
      "         [6, 6, 6, 6]]])\n",
      "Shape: torch.Size([2, 3, 4])\n"
     ]
    }
   ],
   "source": [
    "# 关于张量的维度转置示例\n",
    "import torch\n",
    "\n",
    "# 创建一个形状为 (2, 3) 的张量\n",
    "x = torch.tensor([[1, 2, 3], [4, 5, 6]])\n",
    "print(\"Original tensor:\")\n",
    "print(x)\n",
    "print(\"Shape:\", x.shape)\n",
    "\n",
    "# 改变形状: 使用 view 改变张量形状为 (3, 2)\n",
    "x_reshaped = x.view(3, 2)\n",
    "print(\"\\nReshaped tensor to (3, 2):\")\n",
    "print(x_reshaped)\n",
    "print(\"Shape:\", x_reshaped.shape)\n",
    "\n",
    "# 转置: 使用 t() 方法对二维张量进行转置\n",
    "x_transposed = x.t()\n",
    "print(\"\\nTransposed tensor:\")\n",
    "print(x_transposed)\n",
    "print(\"Shape:\", x_transposed.shape)\n",
    "\n",
    "# 增加维度: 使用 unsqueeze 增加一个维度\n",
    "x_unsqueezed = x.unsqueeze(0)  # 在第0维增加一个维度\n",
    "print(\"\\nTensor after unsqueeze (add dimension at position 0):\")\n",
    "print(x_unsqueezed)\n",
    "print(\"Shape:\", x_unsqueezed.shape)\n",
    "\n",
    "# 压缩维度: 使用 squeeze 去除大小为1的维度\n",
    "x_squeezed = x_unsqueezed.squeeze()\n",
    "print(\"\\nTensor after squeeze (remove dimensions of size 1):\")\n",
    "print(x_squeezed)\n",
    "print(\"Shape:\", x_squeezed.shape)\n",
    "\n",
    "# 扩展张量: 使用 expand 或 expand_as 来匹配目标形状\n",
    "x_expanded = x.unsqueeze(2).expand(2, 3, 4)  # 扩展到形状 (2, 3, 4)\n",
    "print(\"\\nExpanded tensor to shape (2, 3, 4):\")\n",
    "print(x_expanded)\n",
    "print(\"Shape:\", x_expanded.shape)"
   ]
  },
  {
   "cell_type": "code",
   "execution_count": null,
   "metadata": {},
   "outputs": [],
   "source": []
  }
 ],
 "metadata": {
  "kernelspec": {
   "display_name": "ai_dev",
   "language": "python",
   "name": "python3"
  },
  "language_info": {
   "codemirror_mode": {
    "name": "ipython",
    "version": 3
   },
   "file_extension": ".py",
   "mimetype": "text/x-python",
   "name": "python",
   "nbconvert_exporter": "python",
   "pygments_lexer": "ipython3",
   "version": "3.10.14"
  }
 },
 "nbformat": 4,
 "nbformat_minor": 2
}
